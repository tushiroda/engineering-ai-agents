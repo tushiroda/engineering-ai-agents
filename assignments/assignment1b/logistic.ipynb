{
 "cells": [
  {
   "cell_type": "code",
   "execution_count": null,
   "metadata": {},
   "outputs": [],
   "source": [
    "import pandas as pd\n",
    "import torch\n",
    "\n",
    "# I read the data in the form of a single chunk since trying to load the whole dataset crashed the environment\n",
    "chunk = pd.read_csv(\"train.csv\", chunksize=5_000_000)\n",
    "train = next(chunk)"
   ]
  },
  {
   "cell_type": "markdown",
   "metadata": {},
   "source": [
    "Iterating over every column in the dataframe and removing rows where one of the column values have a low count in the dataset overall.\n",
    "\n",
    "I check if the dataframe was actually changed (values were removed) then loop over again to see if there are new values that now have a low count and thus should now be removed as well."
   ]
  },
  {
   "cell_type": "code",
   "execution_count": 2,
   "metadata": {},
   "outputs": [],
   "source": [
    "train = train.drop(columns=['id', 'hour', 'device_id', 'device_ip', 'device_model'])\n"
   ]
  },
  {
   "cell_type": "code",
   "execution_count": 3,
   "metadata": {},
   "outputs": [],
   "source": [
    "changed = True\n",
    "while changed:\n",
    "    changed = False\n",
    "    size = 0\n",
    "    for col in train:\n",
    "        size = len(train)\n",
    "        train = train[train.groupby(col)[col].transform(len) > 5000]\n",
    "    if len(train) != size:\n",
    "        changed = True"
   ]
  },
  {
   "cell_type": "code",
   "execution_count": null,
   "metadata": {},
   "outputs": [],
   "source": [
    "# Manually removed these columns since either I figured they weren't as important and would likely just take longer to run, or\n",
    "# because they messed up my following processing step\n",
    "train = train.drop(columns=['id', 'hour', 'device_id', 'device_ip', 'device_model'])\n",
    "\n",
    "# Iterate over every column and group by values. Remove values where the count < 5,000 (0.1% of data) since they aren't going\n",
    "# to get much value in the model with such low counts\n",
    "for col in train:\n",
    "    train = train[train.groupby(col)[col].transform(len) > 5000]"
   ]
  },
  {
   "cell_type": "code",
   "execution_count": 5,
   "metadata": {},
   "outputs": [],
   "source": [
    "# This encodes all strings in the dataset to integers\n",
    "for col in train:\n",
    "    train[col], filler = pd.factorize(train[col])"
   ]
  },
  {
   "cell_type": "code",
   "execution_count": 6,
   "metadata": {},
   "outputs": [],
   "source": [
    "# convert to floats\n",
    "train = train.astype(float)\n",
    "\n",
    "# Make a dataframe consisting of only the weight columns\n",
    "data = train[train.columns[~train.columns.isin([\"click\"])]]\n",
    "\n",
    "# Make a dataframe consisting of only the outcome column\n",
    "click = train[\"click\"]\n",
    "\n",
    "# standardize data (not the target / click data) around mean 0\n",
    "data.iloc[:, 0:-1] = data.iloc[:, 0:-1].apply(\n",
    "    lambda x: (x - x.mean()) / x.std(), axis=0\n",
    ")\n",
    "\n",
    "# convert to tensors and split to training and testing data\n",
    "data = torch.tensor(data[:].values)\n",
    "training_x = data[1_250_000:]\n",
    "test_x = data[:1_250_000]\n",
    "\n",
    "click = torch.tensor(click[:].values)\n",
    "training_y = click[1_250_000:]\n",
    "test_y = click[:1_250_000]"
   ]
  },
  {
   "cell_type": "code",
   "execution_count": 39,
   "metadata": {},
   "outputs": [],
   "source": [
    "# Pretty self explanitory. The sigmoid function.\n",
    "def sigmoid(z):\n",
    "    return 1 / (1 + torch.exp(torch.tensor(-z)))"
   ]
  },
  {
   "cell_type": "code",
   "execution_count": 40,
   "metadata": {},
   "outputs": [],
   "source": [
    "# Apply the sigmoid function to every element in a tensor and return it\n",
    "def sigall(x):\n",
    "    return torch.tensor([sigmoid(value) for value in x])"
   ]
  },
  {
   "cell_type": "code",
   "execution_count": 41,
   "metadata": {},
   "outputs": [],
   "source": [
    "# Get the cross entropy loss given a phat and p\n",
    "def getloss(y_pred, y_true):\n",
    "    return -torch.mean(\n",
    "        y_true * torch.log(y_pred + 1e-9) + (1 - y_true) * torch.log(1 - y_pred + 1e-9)\n",
    "    )"
   ]
  },
  {
   "cell_type": "code",
   "execution_count": 46,
   "metadata": {},
   "outputs": [],
   "source": [
    "# Get the gradient for each weight and the bias\n",
    "def updateGradients(x, y_pred, y_true):\n",
    "    diff = y_pred - y_true\n",
    "    g_bias = torch.mean(diff)\n",
    "    g_weights = torch.matmul(torch.transpose(x, 0, 1), diff)\n",
    "    g_weights = torch.Tensor([torch.mean(grad) for grad in g_weights])\n",
    "\n",
    "    return g_weights, g_bias"
   ]
  },
  {
   "cell_type": "code",
   "execution_count": 64,
   "metadata": {},
   "outputs": [],
   "source": [
    "def sgd(x_train, y_train, learning_rate=0.1, n_iterations=100, batch_size=9999):\n",
    "    totalLoss = []\n",
    "    weights = torch.rand(train.shape[1] - 1)\n",
    "    weights = weights.double()\n",
    "    bias = 0.0\n",
    "\n",
    "    for _ in range(n_iterations):\n",
    "        # Batches for stochastic gradient descent\n",
    "        # Shuffles the order of the full datasets, then picks batch_size# of them\n",
    "        inds = torch.randperm(x_train.size()[0])\n",
    "        x = x_train[inds][:batch_size]\n",
    "        y = y_train[inds][:batch_size]\n",
    "\n",
    "        # Multiply the weights by the actual values in the row, then add the bias to get values\n",
    "        x_dot_weights = torch.matmul(weights, torch.transpose(x, 0, 1)) + bias\n",
    "\n",
    "        # Apply sigmoid function to those values and get predictions\n",
    "        pred = sigall(x_dot_weights)\n",
    "\n",
    "        # Get loss of the predictions\n",
    "        totalLoss.append(getloss(pred, y))\n",
    "\n",
    "        # Get gradients of weight and bias given the prediction and true value\n",
    "        w_grad, b_grad = updateGradients(x, pred, y)\n",
    "\n",
    "        # Update weights and bias\n",
    "        weights -= learning_rate * w_grad\n",
    "        bias -= learning_rate * b_grad\n",
    "\n",
    "\n",
    "    return weights, bias, totalLoss"
   ]
  },
  {
   "cell_type": "code",
   "execution_count": 75,
   "metadata": {},
   "outputs": [
    {
     "name": "stderr",
     "output_type": "stream",
     "text": [
      "/tmp/ipykernel_21177/1300567015.py:3: UserWarning: To copy construct from a tensor, it is recommended to use sourceTensor.clone().detach() or sourceTensor.clone().detach().requires_grad_(True), rather than torch.tensor(sourceTensor).\n",
      "  return 1 / (1 + torch.exp(torch.tensor(-z)))\n"
     ]
    }
   ],
   "source": [
    "weights, bias, totalLoss = sgd(training_x, training_y, 0.0001, 100, 1000)"
   ]
  },
  {
   "cell_type": "code",
   "execution_count": 76,
   "metadata": {},
   "outputs": [
    {
     "data": {
      "text/plain": [
       "Text(0.5, 1.0, 'Loss')"
      ]
     },
     "execution_count": 76,
     "metadata": {},
     "output_type": "execute_result"
    },
    {
     "data": {
      "image/png": "[encoded data removed]",
      "text/plain": [
       "<Figure size 640x480 with 1 Axes>"
      ]
     },
     "metadata": {},
     "output_type": "display_data"
    }
   ],
   "source": [
    "import matplotlib.pyplot as plt\n",
    "plt.plot(range(len(totalLoss)), totalLoss)\n",
    "plt.title(\"Loss\")"
   ]
  },
  {
   "cell_type": "code",
   "execution_count": 77,
   "metadata": {},
   "outputs": [],
   "source": [
    "def predict(x, weights, bias, threshhold=0.5):\n",
    "    x_dot_weights = torch.matmul(weights, torch.transpose(x, 0, 1)) + bias\n",
    "    predictions = sigall(x_dot_weights)\n",
    "    print(predictions)\n",
    "    return [1 if p >= threshhold else 0 for p in predictions]"
   ]
  },
  {
   "cell_type": "code",
   "execution_count": 78,
   "metadata": {},
   "outputs": [],
   "source": [
    "def getPrecRecall(y_pred, y_true):\n",
    "    TP, FP, FN = 0, 0, 0\n",
    "    for p, t in zip(y_pred, y_true):\n",
    "        if p == t == 1:\n",
    "            TP += 1\n",
    "        elif p==1 and t==0:\n",
    "            FP += 1\n",
    "        elif p==0 and t==1:\n",
    "            FN += 1\n",
    "\n",
    "    try:\n",
    "        precision = TP / (TP + FP)\n",
    "    except:\n",
    "        precision = 1\n",
    "\n",
    "    try:\n",
    "        recall = TP / (TP + FN)\n",
    "    except:\n",
    "        precision = 1\n",
    "\n",
    "    return precision, recall"
   ]
  },
  {
   "cell_type": "code",
   "execution_count": 81,
   "metadata": {},
   "outputs": [
    {
     "name": "stderr",
     "output_type": "stream",
     "text": [
      "/tmp/ipykernel_21177/1300567015.py:3: UserWarning: To copy construct from a tensor, it is recommended to use sourceTensor.clone().detach() or sourceTensor.clone().detach().requires_grad_(True), rather than torch.tensor(sourceTensor).\n",
      "  return 1 / (1 + torch.exp(torch.tensor(-z)))\n"
     ]
    },
    {
     "name": "stdout",
     "output_type": "stream",
     "text": [
      "tensor([0.2069, 0.2409, 0.2409,  ..., 0.2051, 0.2494, 0.1705],\n",
      "       dtype=torch.float64)\n",
      "tensor([0.2069, 0.2409, 0.2409,  ..., 0.2051, 0.2494, 0.1705],\n",
      "       dtype=torch.float64)\n",
      "tensor([0.2069, 0.2409, 0.2409,  ..., 0.2051, 0.2494, 0.1705],\n",
      "       dtype=torch.float64)\n",
      "tensor([0.2069, 0.2409, 0.2409,  ..., 0.2051, 0.2494, 0.1705],\n",
      "       dtype=torch.float64)\n"
     ]
    }
   ],
   "source": [
    "threshholds = torch.tensor([0, 0.1, 0.2, 1])\n",
    "precision, recall = [], []\n",
    "for t in threshholds:\n",
    "    test_pred = predict(test_x, weights, bias, t)\n",
    "    p, r = getPrecRecall(test_pred, test_y)\n",
    "    precision.append(p)\n",
    "    recall.append(r)"
   ]
  },
  {
   "cell_type": "code",
   "execution_count": 82,
   "metadata": {},
   "outputs": [
    {
     "data": {
      "text/plain": [
       "[<matplotlib.lines.Line2D at 0x7fa922f1a010>]"
      ]
     },
     "execution_count": 82,
     "metadata": {},
     "output_type": "execute_result"
    },
    {
     "data": {
      "image/png": "[encoded data removed]",
      "text/plain": [
       "<Figure size 640x480 with 1 Axes>"
      ]
     },
     "metadata": {},
     "output_type": "display_data"
    }
   ],
   "source": [
    "plt.plot(recall, precision)"
   ]
  },
  {
   "cell_type": "markdown",
   "metadata": {},
   "source": [
    "While my curve isn't exactly... curvy... I do at least understand what it's *supposed* to look like.\n",
    "\n",
    "Essentially, precision (the y-axis) is the ratio between the detected positive outcomes that were *actually* positive and the number of *all* outcomes that were *predicted* to pe positive.\n",
    "\n",
    "Recall is the ratio between the number of positive outcomes that were *actually* positive and the number of actually positive outcomes across the entire set.\n",
    "\n",
    "The curve is supposed to show the natural consequences that happen when one of the two properties are maximized. When precision is very high (the model only predicts positve outcomes if it is *absolutely certain*) it misses a lot of other values that were positive, but it wasn't 100% certain about. So, the resulting recall is low.\n",
    "\n",
    "On the other hand, when recall is maximized, a model tends to just accept every outcome as positive even when they might not be. It's very generous with it's classification, so it also lets a lot of false outcomes pass as positive. This means a high false positive rate, and a precision value that is very low."
   ]
  }
 ],
 "metadata": {
  "kernelspec": {
   "display_name": "Python 3",
   "language": "python",
   "name": "python3"
  },
  "language_info": {
   "codemirror_mode": {
    "name": "ipython",
    "version": 3
   },
   "file_extension": ".py",
   "mimetype": "text/x-python",
   "name": "python",
   "nbconvert_exporter": "python",
   "pygments_lexer": "ipython3",
   "version": "3.11.5"
  }
 },
 "nbformat": 4,
 "nbformat_minor": 2
}
